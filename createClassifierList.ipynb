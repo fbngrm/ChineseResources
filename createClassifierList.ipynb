{
 "cells": [
  {
   "cell_type": "code",
   "execution_count": 14,
   "metadata": {
    "collapsed": false
   },
   "outputs": [],
   "source": [
    "import codecs\n",
    "import json\n",
    "\n",
    "from cjklib.reading import ReadingFactory\n",
    "rf = ReadingFactory()\n",
    "\n",
    "\n",
    "# Load ClassifierDescriptions\n",
    "f = codecs.open('dist/classifierDescriptions.txt', encoding='utf-8')\n",
    "ClDesc = {}\n",
    "\n",
    "for line in f:    \n",
    "    d = line.rstrip('\\n').split('\\t')\n",
    "    ClDesc[d[0]] = d[1]\n",
    "    \n",
    "    \n",
    "\n",
    "# Process Unihan Readings\n",
    "Unihan = {}\n",
    "\n",
    "# Codepoint (e.g. 'U+3405') to python character\n",
    "def cp2chr(str):\n",
    "    return unichr(int(str[2:], 16))\n",
    "\n",
    "\n",
    "f = codecs.open('lib/Unihan_Readings.txt', encoding='utf-8')\n",
    "for line in f:\n",
    "    if line[0]!='#':\n",
    "        l = line.rstrip('\\n').split(\"\\t\")\n",
    "        # Try for characters representable in 'narrow' build\n",
    "        try:\n",
    "            c = cp2chr(l[0])\n",
    "            if c not in Unihan:\n",
    "                Unihan[c] = {}\n",
    "            Unihan[c][l[1]] = l[2]\n",
    "        except:\n",
    "            pass\n",
    "\n",
    "        \n",
    "    \n",
    "    \n",
    "# Load CEDICT\n",
    "f = codecs.open('lib/cedict_1_0_ts_utf-8_mdbg.txt', encoding='utf-8')\n",
    "Cl = []\n",
    "\n",
    "fail = {}\n",
    "\n",
    "for line in f:\n",
    "    if line.find(\"CL:\") == -1:\n",
    "        continue\n",
    "        \n",
    "    line = line.rstrip('\\n')\n",
    "    \n",
    "    d1 = line.find(\" \")+1\n",
    "    d2 = line[d1:].find(\" \") + d1\n",
    "    simp = line[d1:d2]\n",
    "    \n",
    "        \n",
    "    data = line.split(\"/\")\n",
    "    for l in data:\n",
    "        if l[0:3] == \"CL:\":\n",
    "            l = l[3:]\n",
    "            \n",
    "            kom = l.find(\",\")\n",
    "            if kom != -1:\n",
    "                l = l[:kom]\n",
    "            \n",
    "            cl = l[:l.find(\"[\")]\n",
    "            py = l[l.find(\"[\")+1 : l.find(\"]\")]\n",
    "            py = rf.convert(py, 'Pinyin', 'Pinyin', sourceOptions={'toneMarkType': 'numbers', 'yVowel': 'u:'})\n",
    "            \n",
    "            \n",
    "            sep = cl.find(\"|\")\n",
    "            if sep != -1:\n",
    "                cl = cl[sep+1:]\n",
    "                \n",
    "            # Add Definition\n",
    "            if cl in ClDesc:\n",
    "                defn = ClDesc[cl]\n",
    "            elif cl in Unihan:\n",
    "                defn = Unihan[cl][u'kDefinition']\n",
    "            else:\n",
    "                if cl not in fail:\n",
    "                    fail[cl] = 1\n",
    "                fail[cl] += 1\n",
    "                defn = ''\n",
    "            \n",
    "            Cl += [ [simp, cl, py, defn] ]\n",
    "   \n",
    "\n",
    "# Write tab-seperated list\n",
    "with codecs.open('dist/classifiersAll.txt', 'w', encoding='utf-8') as f:\n",
    "    for k in Cl:\n",
    "        f.write(\"\\t\".join(k)+\"\\n\")\n",
    "        \n",
    "\n",
    "with codecs.open('dist/classifiers.txt', 'w', encoding='utf-8') as f:\n",
    "    for k in Cl:\n",
    "        if k[1] != u'个':\n",
    "            f.write(\"\\t\".join(k)+\"\\n\")"
   ]
  },
  {
   "cell_type": "code",
   "execution_count": 11,
   "metadata": {
    "collapsed": false
   },
   "outputs": [
    {
     "name": "stdout",
     "output_type": "stream",
     "text": [
      "碗 3\n",
      "户 3\n",
      "堆 2\n",
      "袋 2\n",
      "线 2\n",
      "服 2\n",
      "双 11\n",
      "行 2\n",
      "盒 3\n",
      "滴 4\n",
      "列 4\n",
      "帖 2\n",
      "队 2\n"
     ]
    }
   ],
   "source": [
    "for k,v in fail.iteritems():\n",
    "    print k,v"
   ]
  },
  {
   "cell_type": "code",
   "execution_count": null,
   "metadata": {
    "collapsed": true
   },
   "outputs": [],
   "source": []
  }
 ],
 "metadata": {
  "kernelspec": {
   "display_name": "Python 2",
   "language": "python",
   "name": "python2"
  },
  "language_info": {
   "codemirror_mode": {
    "name": "ipython",
    "version": 2
   },
   "file_extension": ".py",
   "mimetype": "text/x-python",
   "name": "python",
   "nbconvert_exporter": "python",
   "pygments_lexer": "ipython2",
   "version": "2.7.10"
  }
 },
 "nbformat": 4,
 "nbformat_minor": 0
}
