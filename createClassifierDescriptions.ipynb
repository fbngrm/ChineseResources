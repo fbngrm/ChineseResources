{
 "cells": [
  {
   "cell_type": "code",
   "execution_count": 13,
   "metadata": {
    "collapsed": false
   },
   "outputs": [],
   "source": [
    "import codecs\n",
    "import json\n",
    "\n",
    "from cjklib.reading import ReadingFactory\n",
    "rf = ReadingFactory()\n",
    "\n",
    "\n",
    "\n",
    "# Load CEDICT\n",
    "f = codecs.open('lib/cedict_1_0_ts_utf-8_mdbg.txt', encoding='utf-8')\n",
    "Cl = {}\n",
    "\n",
    "for line in f:    \n",
    "    d = line.split(u'/')\n",
    "    for f in d:\n",
    "        if f[0:10] == u'classifier':\n",
    "            c = line.split(' ')[1]\n",
    "            \n",
    "            if c not in Cl:\n",
    "                Cl[c] = []\n",
    "            \n",
    "            Cl[c] += [ f ]\n",
    "\n",
    "            \n",
    "with codecs.open('dist/classifierDescriptions.txt', 'w', encoding='utf-8') as f:\n",
    "    for k,v in Cl.iteritems():\n",
    "        f.write(u'{}\\t{}\\n'.format(k, '; '.join(v)))"
   ]
  },
  {
   "cell_type": "code",
   "execution_count": null,
   "metadata": {
    "collapsed": false
   },
   "outputs": [],
   "source": []
  }
 ],
 "metadata": {
  "kernelspec": {
   "display_name": "Python 2",
   "language": "python",
   "name": "python2"
  },
  "language_info": {
   "codemirror_mode": {
    "name": "ipython",
    "version": 2
   },
   "file_extension": ".py",
   "mimetype": "text/x-python",
   "name": "python",
   "nbconvert_exporter": "python",
   "pygments_lexer": "ipython2",
   "version": "2.7.10"
  }
 },
 "nbformat": 4,
 "nbformat_minor": 0
}
